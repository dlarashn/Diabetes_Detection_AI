{
 "cells": [
  {
   "cell_type": "markdown",
   "id": "c4cf3b1c-51f1-460f-b20d-2340c036381d",
   "metadata": {},
   "source": [
    "KNN Modeli kullanarak birinin verilerine göre şeker hastası olup olmadığını tespit ediyoruz."
   ]
  },
  {
   "cell_type": "code",
   "execution_count": 3,
   "id": "78bb3008-e667-48d6-b4a7-93d5f2d28b52",
   "metadata": {},
   "outputs": [],
   "source": [
    "import pandas as pd\n",
    "import matplotlib.pyplot as plt\n",
    "import numpy as np\n",
    "from sklearn.model_selection import train_test_split\n",
    "from sklearn.neighbors import KNeighborsClassifier"
   ]
  },
  {
   "cell_type": "code",
   "execution_count": 9,
   "id": "17cd0926-bbb8-4d96-aee7-e4b6b8d94b72",
   "metadata": {},
   "outputs": [
    {
     "data": {
      "text/html": [
       "<div>\n",
       "<style scoped>\n",
       "    .dataframe tbody tr th:only-of-type {\n",
       "        vertical-align: middle;\n",
       "    }\n",
       "\n",
       "    .dataframe tbody tr th {\n",
       "        vertical-align: top;\n",
       "    }\n",
       "\n",
       "    .dataframe thead th {\n",
       "        text-align: right;\n",
       "    }\n",
       "</style>\n",
       "<table border=\"1\" class=\"dataframe\">\n",
       "  <thead>\n",
       "    <tr style=\"text-align: right;\">\n",
       "      <th></th>\n",
       "      <th>Pregnancies</th>\n",
       "      <th>Glucose</th>\n",
       "      <th>BloodPressure</th>\n",
       "      <th>SkinThickness</th>\n",
       "      <th>Insulin</th>\n",
       "      <th>BMI</th>\n",
       "      <th>DiabetesPedigreeFunction</th>\n",
       "      <th>Age</th>\n",
       "      <th>Outcome</th>\n",
       "    </tr>\n",
       "  </thead>\n",
       "  <tbody>\n",
       "    <tr>\n",
       "      <th>0</th>\n",
       "      <td>6</td>\n",
       "      <td>148</td>\n",
       "      <td>72</td>\n",
       "      <td>35</td>\n",
       "      <td>0</td>\n",
       "      <td>33.6</td>\n",
       "      <td>0.627</td>\n",
       "      <td>50</td>\n",
       "      <td>1</td>\n",
       "    </tr>\n",
       "    <tr>\n",
       "      <th>1</th>\n",
       "      <td>1</td>\n",
       "      <td>85</td>\n",
       "      <td>66</td>\n",
       "      <td>29</td>\n",
       "      <td>0</td>\n",
       "      <td>26.6</td>\n",
       "      <td>0.351</td>\n",
       "      <td>31</td>\n",
       "      <td>0</td>\n",
       "    </tr>\n",
       "    <tr>\n",
       "      <th>2</th>\n",
       "      <td>8</td>\n",
       "      <td>183</td>\n",
       "      <td>64</td>\n",
       "      <td>0</td>\n",
       "      <td>0</td>\n",
       "      <td>23.3</td>\n",
       "      <td>0.672</td>\n",
       "      <td>32</td>\n",
       "      <td>1</td>\n",
       "    </tr>\n",
       "    <tr>\n",
       "      <th>3</th>\n",
       "      <td>1</td>\n",
       "      <td>89</td>\n",
       "      <td>66</td>\n",
       "      <td>23</td>\n",
       "      <td>94</td>\n",
       "      <td>28.1</td>\n",
       "      <td>0.167</td>\n",
       "      <td>21</td>\n",
       "      <td>0</td>\n",
       "    </tr>\n",
       "    <tr>\n",
       "      <th>4</th>\n",
       "      <td>0</td>\n",
       "      <td>137</td>\n",
       "      <td>40</td>\n",
       "      <td>35</td>\n",
       "      <td>168</td>\n",
       "      <td>43.1</td>\n",
       "      <td>2.288</td>\n",
       "      <td>33</td>\n",
       "      <td>1</td>\n",
       "    </tr>\n",
       "  </tbody>\n",
       "</table>\n",
       "</div>"
      ],
      "text/plain": [
       "   Pregnancies  Glucose  BloodPressure  SkinThickness  Insulin   BMI  \\\n",
       "0            6      148             72             35        0  33.6   \n",
       "1            1       85             66             29        0  26.6   \n",
       "2            8      183             64              0        0  23.3   \n",
       "3            1       89             66             23       94  28.1   \n",
       "4            0      137             40             35      168  43.1   \n",
       "\n",
       "   DiabetesPedigreeFunction  Age  Outcome  \n",
       "0                     0.627   50        1  \n",
       "1                     0.351   31        0  \n",
       "2                     0.672   32        1  \n",
       "3                     0.167   21        0  \n",
       "4                     2.288   33        1  "
      ]
     },
     "execution_count": 9,
     "metadata": {},
     "output_type": "execute_result"
    }
   ],
   "source": [
    "data = pd.read_csv('diabetes.csv')\n",
    "data.head()\n",
    "\n",
    "# Outcome = 1 ise şeker hastası\n",
    "# Outcome = 0 ise sağlıklı"
   ]
  },
  {
   "cell_type": "markdown",
   "id": "53caf66f-3058-49a7-b4da-1906789b5a37",
   "metadata": {},
   "source": [
    "Şeker hastalarını ve sağlıklı insanları grafikte ayırmak için birine 1 birine 0 değerini atıyoruz:"
   ]
  },
  {
   "cell_type": "code",
   "execution_count": 12,
   "id": "2abf88d5-8f92-4f34-a060-42b65e0e917a",
   "metadata": {},
   "outputs": [],
   "source": [
    "seker_hastalari = data[data.Outcome == 1]\n",
    "saglikli_insanlar = data[data.Outcome == 0]"
   ]
  },
  {
   "cell_type": "code",
   "execution_count": 18,
   "id": "2e6c2d6c-f5e9-40c8-865f-87210ba21aec",
   "metadata": {},
   "outputs": [
    {
     "data": {
      "image/png": "[encoded data removed]",
      "text/plain": [
       "<Figure size 640x480 with 1 Axes>"
      ]
     },
     "metadata": {},
     "output_type": "display_data"
    }
   ],
   "source": [
    "plt.scatter(saglikli_insanlar.Age, saglikli_insanlar.Glucose, color='green', label='sağlıklı', alpha = 0.4)\n",
    "plt.scatter(seker_hastalari.Age, seker_hastalari.Glucose, color='red', label='diabet hastalası', alpha = 0.4)\n",
    "plt.xlabel('Age')\n",
    "plt.ylabel('Glucose')\n",
    "plt.legend()  \n",
    "plt.show()"
   ]
  },
  {
   "cell_type": "markdown",
   "id": "7c898deb-05b8-4ec1-b13f-31793784312e",
   "metadata": {},
   "source": [
    "x (bağımsız değişken, örn: şeker hastası olup olmadığı) ve y değişkenlerini (bir insanı şeker hastası veya sağlıklı yapabilecek diğer etkenlerin verileri) belirliyoruz."
   ]
  },
  {
   "cell_type": "code",
   "execution_count": 26,
   "id": "b5a153a2-35f2-49b3-b92b-e47cd029e515",
   "metadata": {},
   "outputs": [],
   "source": [
    "# Bağımlı değişkenimiz Outcome'dur. Çünkü bir verisetinde Outcome'un değerini diğer değişkenler belirler.\n",
    "\n",
    "y = data.Outcome.values"
   ]
  },
  {
   "cell_type": "code",
   "execution_count": 30,
   "id": "cbccc7e4-6c91-4371-83a5-d4c0f5d02d0c",
   "metadata": {},
   "outputs": [],
   "source": [
    "# Geri kalan değişkenler bağımsız değişkenlerdir. drop fonksiyonu ile bağımlı değişkeni sildik ve geriye kalan değişkenler bağımsız değişkenlerden oluştu.\n",
    "\n",
    "x_ham_veri = data.drop(['Outcome'], axis=1)"
   ]
  },
  {
   "cell_type": "markdown",
   "id": "cf1e1fa1-2328-4f45-8952-46a58f87ea80",
   "metadata": {},
   "source": [
    "Normalizasyon işlemi ile modelin algoritmasının yanılmasını engelliyoruz."
   ]
  },
  {
   "cell_type": "code",
   "execution_count": 33,
   "id": "94055601-7163-4235-838f-7f0111f50743",
   "metadata": {},
   "outputs": [],
   "source": [
    "x = (x_ham_veri - np.min(x_ham_veri))/(np.max(x_ham_veri)-np.min(x_ham_veri))"
   ]
  },
  {
   "cell_type": "markdown",
   "id": "47312b56-d5ff-4f87-b0df-94759e509ba1",
   "metadata": {},
   "source": [
    "Normalizasyon öncesi veriler:"
   ]
  },
  {
   "cell_type": "code",
   "execution_count": 36,
   "id": "686e8893-40f2-4dad-aa37-3bb531a1d26d",
   "metadata": {},
   "outputs": [
    {
     "data": {
      "text/html": [
       "<div>\n",
       "<style scoped>\n",
       "    .dataframe tbody tr th:only-of-type {\n",
       "        vertical-align: middle;\n",
       "    }\n",
       "\n",
       "    .dataframe tbody tr th {\n",
       "        vertical-align: top;\n",
       "    }\n",
       "\n",
       "    .dataframe thead th {\n",
       "        text-align: right;\n",
       "    }\n",
       "</style>\n",
       "<table border=\"1\" class=\"dataframe\">\n",
       "  <thead>\n",
       "    <tr style=\"text-align: right;\">\n",
       "      <th></th>\n",
       "      <th>Pregnancies</th>\n",
       "      <th>Glucose</th>\n",
       "      <th>BloodPressure</th>\n",
       "      <th>SkinThickness</th>\n",
       "      <th>Insulin</th>\n",
       "      <th>BMI</th>\n",
       "      <th>DiabetesPedigreeFunction</th>\n",
       "      <th>Age</th>\n",
       "    </tr>\n",
       "  </thead>\n",
       "  <tbody>\n",
       "    <tr>\n",
       "      <th>0</th>\n",
       "      <td>6</td>\n",
       "      <td>148</td>\n",
       "      <td>72</td>\n",
       "      <td>35</td>\n",
       "      <td>0</td>\n",
       "      <td>33.6</td>\n",
       "      <td>0.627</td>\n",
       "      <td>50</td>\n",
       "    </tr>\n",
       "    <tr>\n",
       "      <th>1</th>\n",
       "      <td>1</td>\n",
       "      <td>85</td>\n",
       "      <td>66</td>\n",
       "      <td>29</td>\n",
       "      <td>0</td>\n",
       "      <td>26.6</td>\n",
       "      <td>0.351</td>\n",
       "      <td>31</td>\n",
       "    </tr>\n",
       "    <tr>\n",
       "      <th>2</th>\n",
       "      <td>8</td>\n",
       "      <td>183</td>\n",
       "      <td>64</td>\n",
       "      <td>0</td>\n",
       "      <td>0</td>\n",
       "      <td>23.3</td>\n",
       "      <td>0.672</td>\n",
       "      <td>32</td>\n",
       "    </tr>\n",
       "    <tr>\n",
       "      <th>3</th>\n",
       "      <td>1</td>\n",
       "      <td>89</td>\n",
       "      <td>66</td>\n",
       "      <td>23</td>\n",
       "      <td>94</td>\n",
       "      <td>28.1</td>\n",
       "      <td>0.167</td>\n",
       "      <td>21</td>\n",
       "    </tr>\n",
       "    <tr>\n",
       "      <th>4</th>\n",
       "      <td>0</td>\n",
       "      <td>137</td>\n",
       "      <td>40</td>\n",
       "      <td>35</td>\n",
       "      <td>168</td>\n",
       "      <td>43.1</td>\n",
       "      <td>2.288</td>\n",
       "      <td>33</td>\n",
       "    </tr>\n",
       "  </tbody>\n",
       "</table>\n",
       "</div>"
      ],
      "text/plain": [
       "   Pregnancies  Glucose  BloodPressure  SkinThickness  Insulin   BMI  \\\n",
       "0            6      148             72             35        0  33.6   \n",
       "1            1       85             66             29        0  26.6   \n",
       "2            8      183             64              0        0  23.3   \n",
       "3            1       89             66             23       94  28.1   \n",
       "4            0      137             40             35      168  43.1   \n",
       "\n",
       "   DiabetesPedigreeFunction  Age  \n",
       "0                     0.627   50  \n",
       "1                     0.351   31  \n",
       "2                     0.672   32  \n",
       "3                     0.167   21  \n",
       "4                     2.288   33  "
      ]
     },
     "execution_count": 36,
     "metadata": {},
     "output_type": "execute_result"
    }
   ],
   "source": [
    "x_ham_veri.head()"
   ]
  },
  {
   "cell_type": "markdown",
   "id": "da5a93c5-0b22-47e0-bb9c-72cafaa3de1f",
   "metadata": {},
   "source": [
    "Normalizasyon sonrası veriler:"
   ]
  },
  {
   "cell_type": "code",
   "execution_count": 39,
   "id": "cb67582f-e7e9-4f03-8f1d-9164dc54d971",
   "metadata": {},
   "outputs": [
    {
     "data": {
      "text/html": [
       "<div>\n",
       "<style scoped>\n",
       "    .dataframe tbody tr th:only-of-type {\n",
       "        vertical-align: middle;\n",
       "    }\n",
       "\n",
       "    .dataframe tbody tr th {\n",
       "        vertical-align: top;\n",
       "    }\n",
       "\n",
       "    .dataframe thead th {\n",
       "        text-align: right;\n",
       "    }\n",
       "</style>\n",
       "<table border=\"1\" class=\"dataframe\">\n",
       "  <thead>\n",
       "    <tr style=\"text-align: right;\">\n",
       "      <th></th>\n",
       "      <th>Pregnancies</th>\n",
       "      <th>Glucose</th>\n",
       "      <th>BloodPressure</th>\n",
       "      <th>SkinThickness</th>\n",
       "      <th>Insulin</th>\n",
       "      <th>BMI</th>\n",
       "      <th>DiabetesPedigreeFunction</th>\n",
       "      <th>Age</th>\n",
       "    </tr>\n",
       "  </thead>\n",
       "  <tbody>\n",
       "    <tr>\n",
       "      <th>0</th>\n",
       "      <td>0.007092</td>\n",
       "      <td>0.174941</td>\n",
       "      <td>0.085106</td>\n",
       "      <td>0.041371</td>\n",
       "      <td>0.000000</td>\n",
       "      <td>0.039716</td>\n",
       "      <td>0.000741</td>\n",
       "      <td>0.059102</td>\n",
       "    </tr>\n",
       "    <tr>\n",
       "      <th>1</th>\n",
       "      <td>0.001182</td>\n",
       "      <td>0.100473</td>\n",
       "      <td>0.078014</td>\n",
       "      <td>0.034279</td>\n",
       "      <td>0.000000</td>\n",
       "      <td>0.031442</td>\n",
       "      <td>0.000415</td>\n",
       "      <td>0.036643</td>\n",
       "    </tr>\n",
       "    <tr>\n",
       "      <th>2</th>\n",
       "      <td>0.009456</td>\n",
       "      <td>0.216312</td>\n",
       "      <td>0.075650</td>\n",
       "      <td>0.000000</td>\n",
       "      <td>0.000000</td>\n",
       "      <td>0.027541</td>\n",
       "      <td>0.000794</td>\n",
       "      <td>0.037825</td>\n",
       "    </tr>\n",
       "    <tr>\n",
       "      <th>3</th>\n",
       "      <td>0.001182</td>\n",
       "      <td>0.105201</td>\n",
       "      <td>0.078014</td>\n",
       "      <td>0.027187</td>\n",
       "      <td>0.111111</td>\n",
       "      <td>0.033215</td>\n",
       "      <td>0.000197</td>\n",
       "      <td>0.024823</td>\n",
       "    </tr>\n",
       "    <tr>\n",
       "      <th>4</th>\n",
       "      <td>0.000000</td>\n",
       "      <td>0.161939</td>\n",
       "      <td>0.047281</td>\n",
       "      <td>0.041371</td>\n",
       "      <td>0.198582</td>\n",
       "      <td>0.050946</td>\n",
       "      <td>0.002704</td>\n",
       "      <td>0.039007</td>\n",
       "    </tr>\n",
       "  </tbody>\n",
       "</table>\n",
       "</div>"
      ],
      "text/plain": [
       "   Pregnancies   Glucose  BloodPressure  SkinThickness   Insulin       BMI  \\\n",
       "0     0.007092  0.174941       0.085106       0.041371  0.000000  0.039716   \n",
       "1     0.001182  0.100473       0.078014       0.034279  0.000000  0.031442   \n",
       "2     0.009456  0.216312       0.075650       0.000000  0.000000  0.027541   \n",
       "3     0.001182  0.105201       0.078014       0.027187  0.111111  0.033215   \n",
       "4     0.000000  0.161939       0.047281       0.041371  0.198582  0.050946   \n",
       "\n",
       "   DiabetesPedigreeFunction       Age  \n",
       "0                  0.000741  0.059102  \n",
       "1                  0.000415  0.036643  \n",
       "2                  0.000794  0.037825  \n",
       "3                  0.000197  0.024823  \n",
       "4                  0.002704  0.039007  "
      ]
     },
     "execution_count": 39,
     "metadata": {},
     "output_type": "execute_result"
    }
   ],
   "source": [
    "x.head()"
   ]
  },
  {
   "cell_type": "markdown",
   "id": "06e4704f-78b7-4033-ae21-9536fffabcc7",
   "metadata": {},
   "source": [
    "Bağımlı ve bağımsız değişkenleri ayırıp normalizasyon işlemi yaptıktan sonra sıra verisetini test ve train olarak ayırmakta."
   ]
  },
  {
   "cell_type": "code",
   "execution_count": 42,
   "id": "e5d323b4-38f9-40a8-ad45-6ed5cd32e7b3",
   "metadata": {},
   "outputs": [],
   "source": [
    "x_train, x_test, y_train, y_test = train_test_split(x ,y , test_size=0.2 , random_state=1)"
   ]
  },
  {
   "cell_type": "markdown",
   "id": "0cb52856-4fe3-420c-b587-85c99467b74e",
   "metadata": {},
   "source": [
    "KNN modelimizi oluşturup fit ediyoruz:"
   ]
  },
  {
   "cell_type": "code",
   "execution_count": 45,
   "id": "c56f7a7a-a5d2-437c-9337-4cfc23b3b018",
   "metadata": {},
   "outputs": [],
   "source": [
    "knn = KNeighborsClassifier(n_neighbors = 3).fit(x_train, y_train)"
   ]
  },
  {
   "cell_type": "markdown",
   "id": "1cf7f6dc-8615-4b5b-b295-78461d0fbde0",
   "metadata": {},
   "source": [
    "Test veri setimizi kullanarak tahmin işlemi yapıyoruz."
   ]
  },
  {
   "cell_type": "code",
   "execution_count": 50,
   "id": "5b5c5a1f-9fe2-4c59-8fda-dbb14d6f5c45",
   "metadata": {},
   "outputs": [
    {
     "name": "stdout",
     "output_type": "stream",
     "text": [
      "k=3 için test verilerimizin doğrulama testi sonucu  0.7402597402597403\n"
     ]
    }
   ],
   "source": [
    "prediction = knn.predict(x_test)\n",
    "print('k=3 için test verilerimizin doğrulama testi sonucu ', knn.score(x_test, y_test))"
   ]
  },
  {
   "cell_type": "markdown",
   "id": "19853fc3-d41a-4a12-afdb-90c7214ed964",
   "metadata": {},
   "source": [
    "En iyi sonuç için n_neighbors değeri kaç olmalı?"
   ]
  },
  {
   "cell_type": "code",
   "execution_count": 61,
   "id": "0ecd333d-b4a0-4984-9ed3-aebe1cd530dd",
   "metadata": {},
   "outputs": [
    {
     "name": "stdout",
     "output_type": "stream",
     "text": [
      "1 - Doğruluk oranı: % 72.07792207792207\n",
      "2 - Doğruluk oranı: % 72.72727272727273\n",
      "3 - Doğruluk oranı: % 74.02597402597402\n",
      "4 - Doğruluk oranı: % 72.07792207792207\n",
      "5 - Doğruluk oranı: % 73.37662337662337\n",
      "6 - Doğruluk oranı: % 77.27272727272727\n",
      "7 - Doğruluk oranı: % 75.97402597402598\n",
      "8 - Doğruluk oranı: % 76.62337662337663\n",
      "9 - Doğruluk oranı: % 76.62337662337663\n",
      "10 - Doğruluk oranı: % 75.97402597402598\n"
     ]
    }
   ],
   "source": [
    "sayac = 1\n",
    "for k in range(1,11):\n",
    "    knn_yeni = KNeighborsClassifier(n_neighbors = k)\n",
    "    knn_yeni.fit(x_train, y_train)\n",
    "    print(sayac, '- Doğruluk oranı: %', knn_yeni.score(x_test, y_test)*100)\n",
    "    sayac += 1"
   ]
  },
  {
   "cell_type": "markdown",
   "id": "269dcaaf-105a-450e-b415-1b21bda24198",
   "metadata": {},
   "source": [
    "En doğru sonuç için k değeri 8 veya 9 olmalı."
   ]
  },
  {
   "cell_type": "code",
   "execution_count": 65,
   "id": "82959d0a-4feb-436b-9ddb-b8a7a0c33fb1",
   "metadata": {},
   "outputs": [],
   "source": [
    "knn = KNeighborsClassifier(n_neighbors = 8).fit(x_train,y_train)"
   ]
  },
  {
   "cell_type": "code",
   "execution_count": 67,
   "id": "59be175a-2661-4453-a2f3-d8fa454b8ae7",
   "metadata": {},
   "outputs": [
    {
     "data": {
      "text/plain": [
       "0.7662337662337663"
      ]
     },
     "execution_count": 67,
     "metadata": {},
     "output_type": "execute_result"
    }
   ],
   "source": [
    "knn.score(x_test, y_test)"
   ]
  },
  {
   "cell_type": "markdown",
   "id": "3b40ce4c-88d3-4f28-a750-30ca9fb63198",
   "metadata": {},
   "source": [
    "Veri setinde olmayan yeni bir hastanın verilerine göre tahmin:"
   ]
  },
  {
   "cell_type": "markdown",
   "id": "745a9c18-7efa-400b-9c9f-62047c0d7a80",
   "metadata": {},
   "source": [
    "Yeni hastanın verilerini daha hızlı normalizasyon yapabilmek için MinMax scaler kullanalım."
   ]
  },
  {
   "cell_type": "code",
   "execution_count": 70,
   "id": "a063ed1d-6cf3-4182-895d-beb889029c99",
   "metadata": {},
   "outputs": [],
   "source": [
    "from sklearn.preprocessing import MinMaxScaler"
   ]
  },
  {
   "cell_type": "code",
   "execution_count": 73,
   "id": "985a1f6a-c1a6-433c-b20f-bdd4c34f07e2",
   "metadata": {},
   "outputs": [
    {
     "data": {
      "text/plain": [
       "array([[0.35294118, 0.74371859, 0.59016393, ..., 0.50074516, 0.23441503,\n",
       "        0.48333333],\n",
       "       [0.05882353, 0.42713568, 0.54098361, ..., 0.39642325, 0.11656704,\n",
       "        0.16666667],\n",
       "       [0.47058824, 0.91959799, 0.52459016, ..., 0.34724292, 0.25362938,\n",
       "        0.18333333],\n",
       "       ...,\n",
       "       [0.29411765, 0.6080402 , 0.59016393, ..., 0.390462  , 0.07130658,\n",
       "        0.15      ],\n",
       "       [0.05882353, 0.63316583, 0.49180328, ..., 0.4485842 , 0.11571307,\n",
       "        0.43333333],\n",
       "       [0.05882353, 0.46733668, 0.57377049, ..., 0.45305514, 0.10119556,\n",
       "        0.03333333]])"
      ]
     },
     "execution_count": 73,
     "metadata": {},
     "output_type": "execute_result"
    }
   ],
   "source": [
    "sc = MinMaxScaler()\n",
    "sc.fit_transform(x_ham_veri)"
   ]
  },
  {
   "cell_type": "markdown",
   "id": "ada0f287-c3c3-49c7-bffd-5a9ea296e889",
   "metadata": {},
   "source": [
    "Yeni hastanın değerlerini sırasıyla array içinde yazıp predict() fonksiyonunu kullanıyoruz."
   ]
  },
  {
   "cell_type": "code",
   "execution_count": 76,
   "id": "1f00e69e-7b37-44c5-a91a-f6cea51a9c6d",
   "metadata": {},
   "outputs": [
    {
     "name": "stderr",
     "output_type": "stream",
     "text": [
      "C:\\Users\\dlara\\anaconda3\\Lib\\site-packages\\sklearn\\base.py:493: UserWarning: X does not have valid feature names, but MinMaxScaler was fitted with feature names\n",
      "  warnings.warn(\n",
      "C:\\Users\\dlara\\anaconda3\\Lib\\site-packages\\sklearn\\base.py:493: UserWarning: X does not have valid feature names, but KNeighborsClassifier was fitted with feature names\n",
      "  warnings.warn(\n"
     ]
    }
   ],
   "source": [
    "new_prediction = knn.predict(sc.transform(np.array([[6,148,72,35,0,33.6,0.627,50]])))"
   ]
  },
  {
   "cell_type": "code",
   "execution_count": 78,
   "id": "366d8dc1-0f7c-4ab1-9a82-f99d51c3f55b",
   "metadata": {},
   "outputs": [
    {
     "data": {
      "text/plain": [
       "1"
      ]
     },
     "execution_count": 78,
     "metadata": {},
     "output_type": "execute_result"
    }
   ],
   "source": [
    "new_prediction[0]"
   ]
  },
  {
   "cell_type": "code",
   "execution_count": null,
   "id": "e233491d-2534-47e4-a324-c93241731131",
   "metadata": {},
   "outputs": [],
   "source": []
  }
 ],
 "metadata": {
  "kernelspec": {
   "display_name": "Python 3 (ipykernel)",
   "language": "python",
   "name": "python3"
  },
  "language_info": {
   "codemirror_mode": {
    "name": "ipython",
    "version": 3
   },
   "file_extension": ".py",
   "mimetype": "text/x-python",
   "name": "python",
   "nbconvert_exporter": "python",
   "pygments_lexer": "ipython3",
   "version": "3.11.7"
  }
 },
 "nbformat": 4,
 "nbformat_minor": 5
}
